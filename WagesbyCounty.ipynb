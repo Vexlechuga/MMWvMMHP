{
 "cells": [
  {
   "cell_type": "markdown",
   "metadata": {},
   "source": [
    "# Wages by County Interpolation"
   ]
  },
  {
   "cell_type": "markdown",
   "metadata": {},
   "source": [
    "## 1. Import important resources"
   ]
  },
  {
   "cell_type": "markdown",
   "metadata": {},
   "source": [
    "### 1.1 Import Modules"
   ]
  },
  {
   "cell_type": "code",
   "execution_count": 2,
   "metadata": {},
   "outputs": [],
   "source": [
    "import pandas as pd\n",
    "from geopy.geocoders import Nominatim\n",
    "from datetime import datetime"
   ]
  },
  {
   "cell_type": "markdown",
   "metadata": {},
   "source": [
    "#### 1.1.1 Instantiate geocoder."
   ]
  },
  {
   "cell_type": "code",
   "execution_count": 177,
   "metadata": {},
   "outputs": [
    {
     "name": "stdout",
     "output_type": "stream",
     "text": [
      "city --> Naperville, DuPage County, Illinois, United States\n"
     ]
    }
   ],
   "source": [
    "geolocator = Nominatim(user_agent='Reverse Geocoder')\n",
    "location = geolocator.geocode('Naperville, IL')\n",
    "location\n",
    "print(location.raw['addresstype'], '-->', location.raw['display_name'])\n",
    "# print(location.raw)"
   ]
  },
  {
   "cell_type": "markdown",
   "metadata": {},
   "source": [
    "#### 1.1.2 Create function that parses the county."
   ]
  },
  {
   "cell_type": "code",
   "execution_count": 9,
   "metadata": {},
   "outputs": [],
   "source": []
  },
  {
   "cell_type": "code",
   "execution_count": 11,
   "metadata": {},
   "outputs": [
    {
     "name": "stdout",
     "output_type": "stream",
     "text": [
      "Benton County\n"
     ]
    }
   ],
   "source": [
    "print(parseCountyFromLocation(location.address))"
   ]
  },
  {
   "cell_type": "markdown",
   "metadata": {},
   "source": [
    "### 1.2 Import Data"
   ]
  },
  {
   "cell_type": "code",
   "execution_count": 14,
   "metadata": {},
   "outputs": [
    {
     "name": "stderr",
     "output_type": "stream",
     "text": [
      "C:\\Users\\Dean Akin\\AppData\\Local\\Temp\\ipykernel_20016\\1653995885.py:1: DtypeWarning: Columns (29,30) have mixed types. Specify dtype option on import or set low_memory=False.\n",
      "  wagesByCity = pd.read_csv('.\\data\\wages_level_4.csv')\n"
     ]
    }
   ],
   "source": [
    "wagesByCity = pd.read_csv('.\\data\\wages_level_4.csv')"
   ]
  },
  {
   "cell_type": "code",
   "execution_count": 15,
   "metadata": {},
   "outputs": [
    {
     "data": {
      "text/html": [
       "<div>\n",
       "<style scoped>\n",
       "    .dataframe tbody tr th:only-of-type {\n",
       "        vertical-align: middle;\n",
       "    }\n",
       "\n",
       "    .dataframe tbody tr th {\n",
       "        vertical-align: top;\n",
       "    }\n",
       "\n",
       "    .dataframe thead th {\n",
       "        text-align: right;\n",
       "    }\n",
       "</style>\n",
       "<table border=\"1\" class=\"dataframe\">\n",
       "  <thead>\n",
       "    <tr style=\"text-align: right;\">\n",
       "      <th></th>\n",
       "      <th>AREA</th>\n",
       "      <th>AREA_TITLE</th>\n",
       "      <th>PRIM_STATE</th>\n",
       "      <th>NAICS</th>\n",
       "      <th>NAICS_TITLE</th>\n",
       "      <th>I_GROUP</th>\n",
       "      <th>OWN_CODE</th>\n",
       "      <th>OCC_CODE</th>\n",
       "      <th>OCC_TITLE</th>\n",
       "      <th>O_GROUP</th>\n",
       "      <th>...</th>\n",
       "      <th>H_MEDIAN</th>\n",
       "      <th>H_PCT75</th>\n",
       "      <th>H_PCT90</th>\n",
       "      <th>A_PCT10</th>\n",
       "      <th>A_PCT25</th>\n",
       "      <th>A_MEDIAN</th>\n",
       "      <th>A_PCT75</th>\n",
       "      <th>A_PCT90</th>\n",
       "      <th>ANNUAL</th>\n",
       "      <th>HOURLY</th>\n",
       "    </tr>\n",
       "  </thead>\n",
       "  <tbody>\n",
       "    <tr>\n",
       "      <th>0</th>\n",
       "      <td>11500</td>\n",
       "      <td>Anniston-Oxford-Jacksonville, AL</td>\n",
       "      <td>AL</td>\n",
       "      <td>0</td>\n",
       "      <td>Cross-industry</td>\n",
       "      <td>cross-industry</td>\n",
       "      <td>1235</td>\n",
       "      <td>00-0000</td>\n",
       "      <td>All Occupations</td>\n",
       "      <td>total</td>\n",
       "      <td>...</td>\n",
       "      <td>18.2</td>\n",
       "      <td>26.87</td>\n",
       "      <td>36.83</td>\n",
       "      <td>21860</td>\n",
       "      <td>28270</td>\n",
       "      <td>37850</td>\n",
       "      <td>55890</td>\n",
       "      <td>76610</td>\n",
       "      <td>NaN</td>\n",
       "      <td>NaN</td>\n",
       "    </tr>\n",
       "  </tbody>\n",
       "</table>\n",
       "<p>1 rows × 31 columns</p>\n",
       "</div>"
      ],
      "text/plain": [
       "    AREA                        AREA_TITLE PRIM_STATE  NAICS     NAICS_TITLE  \\\n",
       "0  11500  Anniston-Oxford-Jacksonville, AL         AL      0  Cross-industry   \n",
       "\n",
       "          I_GROUP  OWN_CODE OCC_CODE        OCC_TITLE O_GROUP  ... H_MEDIAN  \\\n",
       "0  cross-industry      1235  00-0000  All Occupations   total  ...     18.2   \n",
       "\n",
       "  H_PCT75 H_PCT90 A_PCT10  A_PCT25  A_MEDIAN A_PCT75 A_PCT90 ANNUAL HOURLY  \n",
       "0   26.87   36.83   21860    28270     37850   55890   76610    NaN    NaN  \n",
       "\n",
       "[1 rows x 31 columns]"
      ]
     },
     "execution_count": 15,
     "metadata": {},
     "output_type": "execute_result"
    }
   ],
   "source": [
    "wagesByCity.head(1)"
   ]
  },
  {
   "cell_type": "markdown",
   "metadata": {},
   "source": [
    "## 2. Prepping Data for reverse geocoding"
   ]
  },
  {
   "cell_type": "markdown",
   "metadata": {},
   "source": [
    "#### 2.1 Retrieve unique city-state pairs."
   ]
  },
  {
   "cell_type": "code",
   "execution_count": 62,
   "metadata": {},
   "outputs": [
    {
     "name": "stdout",
     "output_type": "stream",
     "text": [
      "['Anniston-Oxford-Jacksonville, AL' 'Auburn-Opelika, AL'\n",
      " 'Birmingham-Hoover, AL' 'Daphne-Fairhope-Foley, AL' 'Decatur, AL'\n",
      " 'Dothan, AL' 'Florence-Muscle Shoals, AL' 'Gadsden, AL' 'Huntsville, AL'\n",
      " 'Mobile, AL' 'Montgomery, AL' 'Tuscaloosa, AL' 'Anchorage, AK'\n",
      " 'Fairbanks, AK' 'Flagstaff, AZ' 'Lake Havasu City-Kingman, AZ'\n",
      " 'Phoenix-Mesa-Scottsdale, AZ' 'Prescott, AZ' 'Sierra Vista-Douglas, AZ'\n",
      " 'Tucson, AZ' 'Yuma, AZ' 'Bakersfield, CA' 'Chico, CA' 'El Centro, CA'\n",
      " 'Fresno, CA' 'Hanford-Corcoran, CA' 'Los Angeles-Long Beach-Anaheim, CA'\n",
      " 'Madera, CA' 'Merced, CA' 'Modesto, CA' 'Napa, CA'\n",
      " 'Oxnard-Thousand Oaks-Ventura, CA' 'Redding, CA'\n",
      " 'Riverside-San Bernardino-Ontario, CA'\n",
      " 'Sacramento--Roseville--Arden-Arcade, CA' 'Salinas, CA'\n",
      " 'San Diego-Carlsbad, CA' 'San Francisco-Oakland-Hayward, CA'\n",
      " 'San Jose-Sunnyvale-Santa Clara, CA'\n",
      " 'San Luis Obispo-Paso Robles-Arroyo Grande, CA'\n",
      " 'Santa Cruz-Watsonville, CA' 'Santa Maria-Santa Barbara, CA'\n",
      " 'Santa Rosa, CA' 'Stockton-Lodi, CA' 'Vallejo-Fairfield, CA'\n",
      " 'Visalia-Porterville, CA' 'Yuba City, CA' 'Boulder, CO'\n",
      " 'Colorado Springs, CO' 'Denver-Aurora-Lakewood, CO' 'Fort Collins, CO'\n",
      " 'Grand Junction, CO' 'Greeley, CO' 'Pueblo, CO'\n",
      " 'Cape Coral-Fort Myers, FL' 'Crestview-Fort Walton Beach-Destin, FL'\n",
      " 'Deltona-Daytona Beach-Ormond Beach, FL' 'Gainesville, FL'\n",
      " 'Homosassa Springs, FL' 'Jacksonville, FL' 'Lakeland-Winter Haven, FL'\n",
      " 'Miami-Fort Lauderdale-West Palm Beach, FL'\n",
      " 'Naples-Immokalee-Marco Island, FL' 'North Port-Sarasota-Bradenton, FL'\n",
      " 'Ocala, FL' 'Orlando-Kissimmee-Sanford, FL'\n",
      " 'Palm Bay-Melbourne-Titusville, FL' 'Panama City, FL'\n",
      " 'Pensacola-Ferry Pass-Brent, FL' 'Port St. Lucie, FL' 'Punta Gorda, FL'\n",
      " 'Sebastian-Vero Beach, FL' 'Sebring, FL' 'Tallahassee, FL'\n",
      " 'Tampa-St. Petersburg-Clearwater, FL' 'The Villages, FL'\n",
      " 'Kahului-Wailuku-Lahaina, HI' 'Urban Honolulu, HI' 'Lawrence, KS'\n",
      " 'Manhattan, KS' 'Topeka, KS' 'Wichita, KS' 'Bowling Green, KY'\n",
      " 'Elizabethtown-Fort Knox, KY' 'Lexington-Fayette, KY' 'Owensboro, KY'\n",
      " 'Alexandria, LA' 'Baton Rouge, LA' 'Hammond, LA' 'Houma-Thibodaux, LA'\n",
      " 'Lafayette, LA' 'Lake Charles, LA' 'Monroe, LA'\n",
      " 'New Orleans-Metairie, LA' 'Shreveport-Bossier City, LA'\n",
      " 'Baltimore-Columbia-Towson, MD' 'California-Lexington Park, MD'\n",
      " 'Barnstable Town, MA' 'Leominster-Gardner, MA' 'New Bedford, MA'\n",
      " 'Pittsfield, MA' 'Ann Arbor, MI' 'Battle Creek, MI' 'Bay City, MI'\n",
      " 'Detroit-Warren-Dearborn, MI' 'Flint, MI' 'Grand Rapids-Wyoming, MI'\n",
      " 'Jackson, MI' 'Kalamazoo-Portage, MI' 'Lansing-East Lansing, MI'\n",
      " 'Midland, MI' 'Monroe, MI' 'Muskegon, MI' 'Niles-Benton Harbor, MI'\n",
      " 'Saginaw, MI' 'Gulfport-Biloxi-Pascagoula, MS' 'Hattiesburg, MS'\n",
      " 'Jackson, MS' 'Billings, MT' 'Great Falls, MT' 'Missoula, MT'\n",
      " 'Carson City, NV' 'Las Vegas-Henderson-Paradise, NV' 'Reno, NV'\n",
      " 'Albuquerque, NM' 'Farmington, NM' 'Las Cruces, NM' 'Santa Fe, NM'\n",
      " 'Albany-Schenectady-Troy, NY' 'Binghamton, NY'\n",
      " 'Buffalo-Cheektowaga-Niagara Falls, NY' 'Elmira, NY' 'Glens Falls, NY'\n",
      " 'Ithaca, NY' 'Kingston, NY' 'Rochester, NY' 'Syracuse, NY'\n",
      " 'Utica-Rome, NY' 'Watertown-Fort Drum, NY' 'Bismarck, ND' 'Enid, OK'\n",
      " 'Lawton, OK' 'Oklahoma City, OK' 'Tulsa, OK' 'Rapid City, SD'\n",
      " 'Sioux Falls, SD' 'Abilene, TX' 'Amarillo, TX' 'Austin-Round Rock, TX'\n",
      " 'Beaumont-Port Arthur, TX' 'Brownsville-Harlingen, TX'\n",
      " 'College Station-Bryan, TX' 'Corpus Christi, TX'\n",
      " 'Dallas-Fort Worth-Arlington, TX' 'El Paso, TX'\n",
      " 'Houston-The Woodlands-Sugar Land, TX' 'Killeen-Temple, TX' 'Laredo, TX'\n",
      " 'Longview, TX' 'Lubbock, TX' 'McAllen-Edinburg-Mission, TX' 'Midland, TX'\n",
      " 'Odessa, TX' 'San Angelo, TX' 'San Antonio-New Braunfels, TX'\n",
      " 'Sherman-Denison, TX' 'Tyler, TX' 'Victoria, TX' 'Waco, TX'\n",
      " 'Wichita Falls, TX' 'Ogden-Clearfield, UT' 'Provo-Orem, UT'\n",
      " 'St. George, UT' 'Salt Lake City, UT' 'Burlington-South Burlington, VT'\n",
      " 'Bellingham, WA' 'Bremerton-Silverdale, WA' 'Kennewick-Richland, WA'\n",
      " 'Longview, WA' 'Mount Vernon-Anacortes, WA' 'Olympia-Tumwater, WA'\n",
      " 'Seattle-Tacoma-Bellevue, WA' 'Spokane-Spokane Valley, WA'\n",
      " 'Walla Walla, WA' 'Wenatchee, WA' 'Yakima, WA' 'Appleton, WI'\n",
      " 'Eau Claire, WI' 'Fond du Lac, WI' 'Green Bay, WI'\n",
      " 'Janesville-Beloit, WI' 'Madison, WI' 'Milwaukee-Waukesha-West Allis, WI'\n",
      " 'Oshkosh-Neenah, WI' 'Racine, WI' 'Sheboygan, WI' 'Wausau, WI'\n",
      " 'Casper, WY' 'Cheyenne, WY' 'Aguadilla-Isabela, PR' 'Arecibo, PR'\n",
      " 'Guayama, PR' 'Mayaguez, PR' 'Ponce, PR' 'San German, PR'\n",
      " 'San Juan-Carolina-Caguas, PR' 'Hot Springs, AR' 'Jonesboro, AR'\n",
      " 'Little Rock-North Little Rock-Conway, AR' 'Pine Bluff, AR'\n",
      " 'Fort Smith, AR-OK' 'Texarkana, TX-AR' 'Bridgeport-Stamford-Norwalk, CT'\n",
      " 'Danbury, CT' 'Hartford-West Hartford-East Hartford, CT' 'New Haven, CT'\n",
      " 'Waterbury, CT' 'Springfield, MA-CT' 'Worcester, MA-CT' 'Dover, DE'\n",
      " 'Salisbury, MD-DE' 'Albany, GA' 'Athens-Clarke County, GA'\n",
      " 'Atlanta-Sandy Springs-Roswell, GA' 'Brunswick, GA' 'Dalton, GA'\n",
      " 'Gainesville, GA' 'Hinesville, GA' 'Macon, GA' 'Rome, GA' 'Savannah, GA'\n",
      " 'Valdosta, GA' 'Warner Robins, GA' 'Columbus, GA-AL' 'Boise City, ID'\n",
      " \"Coeur d'Alene, ID\" 'Idaho Falls, ID' 'Pocatello, ID' 'Twin Falls, ID'\n",
      " 'Logan, UT-ID' 'Lewiston, ID-WA' 'Bloomington, IL'\n",
      " 'Carbondale-Marion, IL' 'Champaign-Urbana, IL' 'Danville, IL'\n",
      " 'Decatur, IL' 'Kankakee, IL' 'Peoria, IL' 'Rockford, IL'\n",
      " 'Springfield, IL' 'Bangor, ME' 'Lewiston-Auburn, ME'\n",
      " 'Portland-South Portland, ME' 'Mankato-North Mankato, MN' 'Rochester, MN'\n",
      " 'St. Cloud, MN' 'Fargo, ND-MN' 'Grand Forks, ND-MN' 'Duluth, MN-WI'\n",
      " 'La Crosse-Onalaska, WI-MN' 'Minneapolis-St. Paul-Bloomington, MN-WI'\n",
      " 'Grand Island, NE' 'Lincoln, NE' 'Asheville, NC' 'Burlington, NC'\n",
      " 'Durham-Chapel Hill, NC' 'Fayetteville, NC' 'Goldsboro, NC'\n",
      " 'Greensboro-High Point, NC' 'Greenville, NC'\n",
      " 'Hickory-Lenoir-Morganton, NC' 'Jacksonville, NC' 'New Bern, NC'\n",
      " 'Raleigh, NC' 'Rocky Mount, NC' 'Wilmington, NC' 'Winston-Salem, NC'\n",
      " 'Albany, OR' 'Bend-Redmond, OR' 'Corvallis, OR' 'Eugene, OR'\n",
      " 'Grants Pass, OR' 'Medford, OR' 'Salem, OR'\n",
      " 'Portland-Vancouver-Hillsboro, OR-WA' 'Ames, IA' 'Cedar Rapids, IA'\n",
      " 'Des Moines-West Des Moines, IA' 'Dubuque, IA' 'Iowa City, IA'\n",
      " 'Waterloo-Cedar Falls, IA' 'Davenport-Moline-Rock Island, IA-IL'\n",
      " 'Omaha-Council Bluffs, NE-IA' 'Sioux City, IA-NE-SD' 'Columbia, MO'\n",
      " 'Jefferson City, MO' 'Joplin, MO' 'Springfield, MO' 'Kansas City, MO-KS'\n",
      " 'St. Joseph, MO-KS' 'Fayetteville-Springdale-Rogers, AR-MO'\n",
      " 'Cape Girardeau, MO-IL' 'St. Louis, MO-IL' 'Atlantic City-Hammonton, NJ'\n",
      " 'Ocean City, NJ' 'Trenton, NJ' 'Vineland-Bridgeton, NJ' 'Akron, OH'\n",
      " 'Canton-Massillon, OH' 'Cleveland-Elyria, OH' 'Columbus, OH' 'Dayton, OH'\n",
      " 'Lima, OH' 'Mansfield, OH' 'Springfield, OH' 'Toledo, OH'\n",
      " 'Providence-Warwick, RI-MA' 'Norwich-New London-Westerly, CT-RI'\n",
      " 'Charleston-North Charleston, SC' 'Columbia, SC' 'Florence, SC'\n",
      " 'Greenville-Anderson-Mauldin, SC'\n",
      " 'Hilton Head Island-Bluffton-Beaufort, SC' 'Spartanburg, SC' 'Sumter, SC'\n",
      " 'Augusta-Richmond County, GA-SC' 'Charlotte-Concord-Gastonia, NC-SC'\n",
      " 'Myrtle Beach-Conway-North Myrtle Beach, SC-NC'\n",
      " 'Blacksburg-Christiansburg-Radford, VA' 'Charlottesville, VA'\n",
      " 'Harrisonburg, VA' 'Lynchburg, VA' 'Richmond, VA' 'Roanoke, VA'\n",
      " 'Staunton-Waynesboro, VA' 'Virginia Beach-Norfolk-Newport News, VA-NC'\n",
      " 'Bloomington, IN' 'Columbus, IN' 'Elkhart-Goshen, IN' 'Fort Wayne, IN'\n",
      " 'Indianapolis-Carmel-Anderson, IN' 'Kokomo, IN'\n",
      " 'Lafayette-West Lafayette, IN' 'Michigan City-La Porte, IN' 'Muncie, IN'\n",
      " 'Terre Haute, IN' 'Evansville, IN-KY'\n",
      " 'Louisville/Jefferson County, KY-IN' 'South Bend-Mishawaka, IN-MI'\n",
      " 'Chicago-Naperville-Elgin, IL-IN-WI' 'Cincinnati, OH-KY-IN'\n",
      " 'Manchester, NH' 'Boston-Cambridge-Nashua, MA-NH' 'Dover-Durham, NH-ME'\n",
      " 'Portsmouth, NH-ME' 'Altoona, PA' 'Bloomsburg-Berwick, PA'\n",
      " 'Chambersburg-Waynesboro, PA' 'East Stroudsburg, PA' 'Erie, PA'\n",
      " 'Gettysburg, PA' 'Harrisburg-Carlisle, PA' 'Johnstown, PA'\n",
      " 'Lancaster, PA' 'Lebanon, PA' 'Pittsburgh, PA' 'Reading, PA'\n",
      " 'Scranton--Wilkes-Barre--Hazleton, PA' 'State College, PA'\n",
      " 'Williamsport, PA' 'York-Hanover, PA' 'Allentown-Bethlehem-Easton, PA-NJ'\n",
      " 'New York-Newark-Jersey City, NY-NJ-PA'\n",
      " 'Philadelphia-Camden-Wilmington, PA-NJ-DE-MD'\n",
      " 'Youngstown-Warren-Boardman, OH-PA' 'Cleveland, TN' 'Jackson, TN'\n",
      " 'Johnson City, TN' 'Knoxville, TN' 'Morristown, TN'\n",
      " 'Nashville-Davidson--Murfreesboro--Franklin, TN' 'Clarksville, TN-KY'\n",
      " 'Memphis, TN-MS-AR' 'Chattanooga, TN-GA'\n",
      " 'Kingsport-Bristol-Bristol, TN-VA' 'Beckley, WV' 'Charleston, WV'\n",
      " 'Morgantown, WV' 'Parkersburg-Vienna, WV' 'Cumberland, MD-WV'\n",
      " 'Hagerstown-Martinsburg, MD-WV' 'Weirton-Steubenville, WV-OH'\n",
      " 'Wheeling, WV-OH' 'Huntington-Ashland, WV-KY-OH' 'Winchester, VA-WV'\n",
      " 'Washington-Arlington-Alexandria, DC-VA-MD-WV']\n"
     ]
    }
   ],
   "source": [
    "uniqueCityStatePairs = wagesByCity.AREA_TITLE.unique()\n",
    "print(uniqueCityStatePairs)"
   ]
  },
  {
   "cell_type": "markdown",
   "metadata": {},
   "source": [
    "#### 2.2 Extract metropolitan areas and/or cross-state cities"
   ]
  },
  {
   "cell_type": "code",
   "execution_count": 63,
   "metadata": {},
   "outputs": [
    {
     "name": "stdout",
     "output_type": "stream",
     "text": [
      "['Anniston-Oxford-Jacksonville, AL', 'Auburn-Opelika, AL', 'Birmingham-Hoover, AL', 'Daphne-Fairhope-Foley, AL', 'Florence-Muscle Shoals, AL', 'Lake Havasu City-Kingman, AZ', 'Phoenix-Mesa-Scottsdale, AZ', 'Sierra Vista-Douglas, AZ', 'Hanford-Corcoran, CA', 'Los Angeles-Long Beach-Anaheim, CA', 'Oxnard-Thousand Oaks-Ventura, CA', 'Riverside-San Bernardino-Ontario, CA', 'Sacramento--Roseville--Arden-Arcade, CA', 'San Diego-Carlsbad, CA', 'San Francisco-Oakland-Hayward, CA', 'San Jose-Sunnyvale-Santa Clara, CA', 'San Luis Obispo-Paso Robles-Arroyo Grande, CA', 'Santa Cruz-Watsonville, CA', 'Santa Maria-Santa Barbara, CA', 'Stockton-Lodi, CA', 'Vallejo-Fairfield, CA', 'Visalia-Porterville, CA', 'Denver-Aurora-Lakewood, CO', 'Cape Coral-Fort Myers, FL', 'Crestview-Fort Walton Beach-Destin, FL', 'Deltona-Daytona Beach-Ormond Beach, FL', 'Lakeland-Winter Haven, FL', 'Miami-Fort Lauderdale-West Palm Beach, FL', 'Naples-Immokalee-Marco Island, FL', 'North Port-Sarasota-Bradenton, FL', 'Orlando-Kissimmee-Sanford, FL', 'Palm Bay-Melbourne-Titusville, FL', 'Pensacola-Ferry Pass-Brent, FL', 'Sebastian-Vero Beach, FL', 'Tampa-St. Petersburg-Clearwater, FL', 'Kahului-Wailuku-Lahaina, HI', 'Elizabethtown-Fort Knox, KY', 'Lexington-Fayette, KY', 'Houma-Thibodaux, LA', 'New Orleans-Metairie, LA', 'Shreveport-Bossier City, LA', 'Baltimore-Columbia-Towson, MD', 'California-Lexington Park, MD', 'Leominster-Gardner, MA', 'Detroit-Warren-Dearborn, MI', 'Grand Rapids-Wyoming, MI', 'Kalamazoo-Portage, MI', 'Lansing-East Lansing, MI', 'Niles-Benton Harbor, MI', 'Gulfport-Biloxi-Pascagoula, MS', 'Las Vegas-Henderson-Paradise, NV', 'Albany-Schenectady-Troy, NY', 'Buffalo-Cheektowaga-Niagara Falls, NY', 'Utica-Rome, NY', 'Watertown-Fort Drum, NY', 'Austin-Round Rock, TX', 'Beaumont-Port Arthur, TX', 'Brownsville-Harlingen, TX', 'College Station-Bryan, TX', 'Dallas-Fort Worth-Arlington, TX', 'Houston-The Woodlands-Sugar Land, TX', 'Killeen-Temple, TX', 'McAllen-Edinburg-Mission, TX', 'San Antonio-New Braunfels, TX', 'Sherman-Denison, TX', 'Ogden-Clearfield, UT', 'Provo-Orem, UT', 'Burlington-South Burlington, VT', 'Bremerton-Silverdale, WA', 'Kennewick-Richland, WA', 'Mount Vernon-Anacortes, WA', 'Olympia-Tumwater, WA', 'Seattle-Tacoma-Bellevue, WA', 'Spokane-Spokane Valley, WA', 'Janesville-Beloit, WI', 'Milwaukee-Waukesha-West Allis, WI', 'Oshkosh-Neenah, WI', 'Aguadilla-Isabela, PR', 'San Juan-Carolina-Caguas, PR', 'Little Rock-North Little Rock-Conway, AR', 'Fort Smith, AR-OK', 'Texarkana, TX-AR', 'Bridgeport-Stamford-Norwalk, CT', 'Hartford-West Hartford-East Hartford, CT', 'Springfield, MA-CT', 'Worcester, MA-CT', 'Salisbury, MD-DE', 'Athens-Clarke County, GA', 'Atlanta-Sandy Springs-Roswell, GA', 'Columbus, GA-AL', 'Logan, UT-ID', 'Lewiston, ID-WA', 'Carbondale-Marion, IL', 'Champaign-Urbana, IL', 'Lewiston-Auburn, ME', 'Portland-South Portland, ME', 'Mankato-North Mankato, MN', 'Fargo, ND-MN', 'Grand Forks, ND-MN', 'Duluth, MN-WI', 'La Crosse-Onalaska, WI-MN', 'Minneapolis-St. Paul-Bloomington, MN-WI', 'Durham-Chapel Hill, NC', 'Greensboro-High Point, NC', 'Hickory-Lenoir-Morganton, NC', 'Winston-Salem, NC', 'Bend-Redmond, OR', 'Portland-Vancouver-Hillsboro, OR-WA', 'Des Moines-West Des Moines, IA', 'Waterloo-Cedar Falls, IA', 'Davenport-Moline-Rock Island, IA-IL', 'Omaha-Council Bluffs, NE-IA', 'Sioux City, IA-NE-SD', 'Kansas City, MO-KS', 'St. Joseph, MO-KS', 'Fayetteville-Springdale-Rogers, AR-MO', 'Cape Girardeau, MO-IL', 'St. Louis, MO-IL', 'Atlantic City-Hammonton, NJ', 'Vineland-Bridgeton, NJ', 'Canton-Massillon, OH', 'Cleveland-Elyria, OH', 'Providence-Warwick, RI-MA', 'Norwich-New London-Westerly, CT-RI', 'Charleston-North Charleston, SC', 'Greenville-Anderson-Mauldin, SC', 'Hilton Head Island-Bluffton-Beaufort, SC', 'Augusta-Richmond County, GA-SC', 'Charlotte-Concord-Gastonia, NC-SC', 'Myrtle Beach-Conway-North Myrtle Beach, SC-NC', 'Blacksburg-Christiansburg-Radford, VA', 'Staunton-Waynesboro, VA', 'Virginia Beach-Norfolk-Newport News, VA-NC', 'Elkhart-Goshen, IN', 'Indianapolis-Carmel-Anderson, IN', 'Lafayette-West Lafayette, IN', 'Michigan City-La Porte, IN', 'Evansville, IN-KY', 'Louisville/Jefferson County, KY-IN', 'South Bend-Mishawaka, IN-MI', 'Chicago-Naperville-Elgin, IL-IN-WI', 'Cincinnati, OH-KY-IN', 'Boston-Cambridge-Nashua, MA-NH', 'Dover-Durham, NH-ME', 'Portsmouth, NH-ME', 'Bloomsburg-Berwick, PA', 'Chambersburg-Waynesboro, PA', 'Harrisburg-Carlisle, PA', 'Scranton--Wilkes-Barre--Hazleton, PA', 'York-Hanover, PA', 'Allentown-Bethlehem-Easton, PA-NJ', 'New York-Newark-Jersey City, NY-NJ-PA', 'Philadelphia-Camden-Wilmington, PA-NJ-DE-MD', 'Youngstown-Warren-Boardman, OH-PA', 'Nashville-Davidson--Murfreesboro--Franklin, TN', 'Clarksville, TN-KY', 'Memphis, TN-MS-AR', 'Chattanooga, TN-GA', 'Kingsport-Bristol-Bristol, TN-VA', 'Parkersburg-Vienna, WV', 'Cumberland, MD-WV', 'Hagerstown-Martinsburg, MD-WV', 'Weirton-Steubenville, WV-OH', 'Wheeling, WV-OH', 'Huntington-Ashland, WV-KY-OH', 'Winchester, VA-WV', 'Washington-Arlington-Alexandria, DC-VA-MD-WV']\n"
     ]
    }
   ],
   "source": [
    "uniqueCityStatePairs = [item for item in uniqueCityStatePairs if '-' in item]\n",
    "print(uniqueCityStatePairs)"
   ]
  },
  {
   "cell_type": "markdown",
   "metadata": {},
   "source": [
    "#### 2.3 Interpreting the list of cross-state cities\n",
    "1. Some cities may be census-designated place that are designated as a county or a city that has no county which makes it an independant city which counts itself as it's own county, or its a legitimate city (i.e. see Arlington, VA)\n",
    "   1. In this case we need to see for each city and state pair what satisfies the former conditions.\n",
    "2. The position of the concatenated string in both the city and state section of the string are important.\n",
    "   1. If it has a format of- \"city1-city2-..., state\", the query would be fore \"city1, state\" as that is the largest city of that specific metro area.\n",
    "   2. "
   ]
  },
  {
   "cell_type": "markdown",
   "metadata": {},
   "source": []
  }
 ],
 "metadata": {
  "kernelspec": {
   "display_name": "MMtoHpR",
   "language": "python",
   "name": "python3"
  },
  "language_info": {
   "codemirror_mode": {
    "name": "ipython",
    "version": 3
   },
   "file_extension": ".py",
   "mimetype": "text/x-python",
   "name": "python",
   "nbconvert_exporter": "python",
   "pygments_lexer": "ipython3",
   "version": "3.11.8"
  }
 },
 "nbformat": 4,
 "nbformat_minor": 2
}
